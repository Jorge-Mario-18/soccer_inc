{
  "nbformat": 4,
  "nbformat_minor": 0,
  "metadata": {
    "colab": {
      "provenance": [],
      "authorship_tag": "ABX9TyNFMNdREx8sxwxjL395vK4W",
      "include_colab_link": true
    },
    "kernelspec": {
      "name": "python3",
      "display_name": "Python 3"
    },
    "language_info": {
      "name": "python"
    }
  },
  "cells": [
    {
      "cell_type": "markdown",
      "metadata": {
        "id": "view-in-github",
        "colab_type": "text"
      },
      "source": [
        "<a href=\"https://colab.research.google.com/github/Jorge-Mario-18/soccer_inc/blob/main/soccer_inc_storage.ipynb\" target=\"_parent\"><img src=\"https://colab.research.google.com/assets/colab-badge.svg\" alt=\"Open In Colab\"/></a>"
      ]
    },
    {
      "cell_type": "code",
      "execution_count": null,
      "metadata": {
        "id": "-XAV28Jkod9t"
      },
      "outputs": [],
      "source": [
        "import pandas as pd"
      ]
    },
    {
      "cell_type": "code",
      "source": [
        "#Reads all the CSV\n",
        "Q1_20_stg = pd.read_csv('Q1_2020_storage.csv')\n",
        "Q2_20_stg = pd.read_csv('Q2_2020_storage.csv')\n",
        "Q3_20_stg = pd.read_csv('Q3_2020_storage.csv')\n",
        "Q4_20_stg = pd.read_csv('Q4_2020_storage.csv')\n",
        "Q1_21_stg = pd.read_csv('Q1_2021_storage.csv')\n",
        "Q2_21_stg = pd.read_csv('Q2_2021_storage.csv')\n",
        "Q3_21_stg = pd.read_csv('Q3_2021_storage.csv')\n",
        "Q4_21_stg = pd.read_csv('Q4_2021_storage.csv')\n",
        "Q1_22_stg = pd.read_csv('Q1_2022_storage.csv')\n",
        "Q2_22_stg = pd.read_csv('Q2_2022_storage.csv')\n",
        "Q3_22_stg = pd.read_csv('Q3_2022_storage.csv')\n",
        "Q4_22_stg = pd.read_csv('Q4_2022_storage.csv')"
      ],
      "metadata": {
        "id": "83D6ul4wpd5N"
      },
      "execution_count": null,
      "outputs": []
    },
    {
      "cell_type": "code",
      "source": [
        "#Drops columns \n",
        "Q1_20_stg = Q1_20_stg.drop(columns = ['No.', 'Unnamed: 3', 'No..1'])\n",
        "Q2_20_stg = Q2_20_stg.drop(columns = ['No.', 'Unnamed: 3', 'No..1'])\n",
        "Q3_20_stg = Q3_20_stg.drop(columns = ['No.', 'Unnamed: 3', 'No..1'])\n",
        "Q4_20_stg = Q4_20_stg.drop(columns = ['No.', 'Unnamed: 3', 'No..1'])\n",
        "Q1_21_stg = Q1_21_stg.drop(columns = ['No.', 'Unnamed: 3', 'No..1'])\n",
        "Q2_21_stg = Q2_21_stg.drop(columns = ['No.', 'Unnamed: 3', 'No..1'])\n",
        "Q3_21_stg = Q3_21_stg.drop(columns = ['No.', 'Unnamed: 3', 'No..1'])\n",
        "Q4_21_stg = Q4_21_stg.drop(columns = ['No.', 'Unnamed: 3', 'No..1'])\n",
        "Q1_22_stg = Q1_22_stg.drop(columns = ['No.', 'Unnamed: 3', 'No..1'])\n",
        "Q2_22_stg = Q2_22_stg.drop(columns = ['No.', 'Unnamed: 3', 'No..1'])\n",
        "Q3_22_stg = Q3_22_stg.drop(columns = ['No.', 'Unnamed: 3', 'No..1'])\n",
        "Q4_22_stg = Q4_22_stg.drop(columns = ['No.', 'Unnamed: 3', 'No..1'])"
      ],
      "metadata": {
        "id": "ouvbol61ppLN"
      },
      "execution_count": null,
      "outputs": []
    },
    {
      "cell_type": "code",
      "source": [
        "#Prints example quater \n",
        "print('----------------- Q1 2020 -----------------')\n",
        "Q1_20_stg"
      ],
      "metadata": {
        "colab": {
          "base_uri": "https://localhost:8080/",
          "height": 287
        },
        "id": "F_VlMyt5sp9H",
        "outputId": "07ff7923-a2ed-4bdb-b8e1-1d3722c01897"
      },
      "execution_count": null,
      "outputs": [
        {
          "output_type": "stream",
          "name": "stdout",
          "text": [
            "----------------- Q1 2020 -----------------\n"
          ]
        },
        {
          "output_type": "execute_result",
          "data": {
            "text/plain": [
              "      File Type   Size(MB)   File Type.1  Files\n",
              "0         Image  557,175.3         Image  35479\n",
              "1         Video  151,200.3         Video    699\n",
              "2  Presentation      731.0  Presentation     13\n",
              "3      Document    1,574.0      Document    977\n",
              "4         Audio        0.0         Audio      0\n",
              "5         Other        1.6         Other     74\n",
              "6         Total  710,682.2         Total  37242"
            ],
            "text/html": [
              "\n",
              "  <div id=\"df-b570731c-c24a-445f-9bfb-606479057f0b\">\n",
              "    <div class=\"colab-df-container\">\n",
              "      <div>\n",
              "<style scoped>\n",
              "    .dataframe tbody tr th:only-of-type {\n",
              "        vertical-align: middle;\n",
              "    }\n",
              "\n",
              "    .dataframe tbody tr th {\n",
              "        vertical-align: top;\n",
              "    }\n",
              "\n",
              "    .dataframe thead th {\n",
              "        text-align: right;\n",
              "    }\n",
              "</style>\n",
              "<table border=\"1\" class=\"dataframe\">\n",
              "  <thead>\n",
              "    <tr style=\"text-align: right;\">\n",
              "      <th></th>\n",
              "      <th>File Type</th>\n",
              "      <th>Size(MB)</th>\n",
              "      <th>File Type.1</th>\n",
              "      <th>Files</th>\n",
              "    </tr>\n",
              "  </thead>\n",
              "  <tbody>\n",
              "    <tr>\n",
              "      <th>0</th>\n",
              "      <td>Image</td>\n",
              "      <td>557,175.3</td>\n",
              "      <td>Image</td>\n",
              "      <td>35479</td>\n",
              "    </tr>\n",
              "    <tr>\n",
              "      <th>1</th>\n",
              "      <td>Video</td>\n",
              "      <td>151,200.3</td>\n",
              "      <td>Video</td>\n",
              "      <td>699</td>\n",
              "    </tr>\n",
              "    <tr>\n",
              "      <th>2</th>\n",
              "      <td>Presentation</td>\n",
              "      <td>731.0</td>\n",
              "      <td>Presentation</td>\n",
              "      <td>13</td>\n",
              "    </tr>\n",
              "    <tr>\n",
              "      <th>3</th>\n",
              "      <td>Document</td>\n",
              "      <td>1,574.0</td>\n",
              "      <td>Document</td>\n",
              "      <td>977</td>\n",
              "    </tr>\n",
              "    <tr>\n",
              "      <th>4</th>\n",
              "      <td>Audio</td>\n",
              "      <td>0.0</td>\n",
              "      <td>Audio</td>\n",
              "      <td>0</td>\n",
              "    </tr>\n",
              "    <tr>\n",
              "      <th>5</th>\n",
              "      <td>Other</td>\n",
              "      <td>1.6</td>\n",
              "      <td>Other</td>\n",
              "      <td>74</td>\n",
              "    </tr>\n",
              "    <tr>\n",
              "      <th>6</th>\n",
              "      <td>Total</td>\n",
              "      <td>710,682.2</td>\n",
              "      <td>Total</td>\n",
              "      <td>37242</td>\n",
              "    </tr>\n",
              "  </tbody>\n",
              "</table>\n",
              "</div>\n",
              "      <button class=\"colab-df-convert\" onclick=\"convertToInteractive('df-b570731c-c24a-445f-9bfb-606479057f0b')\"\n",
              "              title=\"Convert this dataframe to an interactive table.\"\n",
              "              style=\"display:none;\">\n",
              "        \n",
              "  <svg xmlns=\"http://www.w3.org/2000/svg\" height=\"24px\"viewBox=\"0 0 24 24\"\n",
              "       width=\"24px\">\n",
              "    <path d=\"M0 0h24v24H0V0z\" fill=\"none\"/>\n",
              "    <path d=\"M18.56 5.44l.94 2.06.94-2.06 2.06-.94-2.06-.94-.94-2.06-.94 2.06-2.06.94zm-11 1L8.5 8.5l.94-2.06 2.06-.94-2.06-.94L8.5 2.5l-.94 2.06-2.06.94zm10 10l.94 2.06.94-2.06 2.06-.94-2.06-.94-.94-2.06-.94 2.06-2.06.94z\"/><path d=\"M17.41 7.96l-1.37-1.37c-.4-.4-.92-.59-1.43-.59-.52 0-1.04.2-1.43.59L10.3 9.45l-7.72 7.72c-.78.78-.78 2.05 0 2.83L4 21.41c.39.39.9.59 1.41.59.51 0 1.02-.2 1.41-.59l7.78-7.78 2.81-2.81c.8-.78.8-2.07 0-2.86zM5.41 20L4 18.59l7.72-7.72 1.47 1.35L5.41 20z\"/>\n",
              "  </svg>\n",
              "      </button>\n",
              "      \n",
              "  <style>\n",
              "    .colab-df-container {\n",
              "      display:flex;\n",
              "      flex-wrap:wrap;\n",
              "      gap: 12px;\n",
              "    }\n",
              "\n",
              "    .colab-df-convert {\n",
              "      background-color: #E8F0FE;\n",
              "      border: none;\n",
              "      border-radius: 50%;\n",
              "      cursor: pointer;\n",
              "      display: none;\n",
              "      fill: #1967D2;\n",
              "      height: 32px;\n",
              "      padding: 0 0 0 0;\n",
              "      width: 32px;\n",
              "    }\n",
              "\n",
              "    .colab-df-convert:hover {\n",
              "      background-color: #E2EBFA;\n",
              "      box-shadow: 0px 1px 2px rgba(60, 64, 67, 0.3), 0px 1px 3px 1px rgba(60, 64, 67, 0.15);\n",
              "      fill: #174EA6;\n",
              "    }\n",
              "\n",
              "    [theme=dark] .colab-df-convert {\n",
              "      background-color: #3B4455;\n",
              "      fill: #D2E3FC;\n",
              "    }\n",
              "\n",
              "    [theme=dark] .colab-df-convert:hover {\n",
              "      background-color: #434B5C;\n",
              "      box-shadow: 0px 1px 3px 1px rgba(0, 0, 0, 0.15);\n",
              "      filter: drop-shadow(0px 1px 2px rgba(0, 0, 0, 0.3));\n",
              "      fill: #FFFFFF;\n",
              "    }\n",
              "  </style>\n",
              "\n",
              "      <script>\n",
              "        const buttonEl =\n",
              "          document.querySelector('#df-b570731c-c24a-445f-9bfb-606479057f0b button.colab-df-convert');\n",
              "        buttonEl.style.display =\n",
              "          google.colab.kernel.accessAllowed ? 'block' : 'none';\n",
              "\n",
              "        async function convertToInteractive(key) {\n",
              "          const element = document.querySelector('#df-b570731c-c24a-445f-9bfb-606479057f0b');\n",
              "          const dataTable =\n",
              "            await google.colab.kernel.invokeFunction('convertToInteractive',\n",
              "                                                     [key], {});\n",
              "          if (!dataTable) return;\n",
              "\n",
              "          const docLinkHtml = 'Like what you see? Visit the ' +\n",
              "            '<a target=\"_blank\" href=https://colab.research.google.com/notebooks/data_table.ipynb>data table notebook</a>'\n",
              "            + ' to learn more about interactive tables.';\n",
              "          element.innerHTML = '';\n",
              "          dataTable['output_type'] = 'display_data';\n",
              "          await google.colab.output.renderOutput(dataTable, element);\n",
              "          const docLink = document.createElement('div');\n",
              "          docLink.innerHTML = docLinkHtml;\n",
              "          element.appendChild(docLink);\n",
              "        }\n",
              "      </script>\n",
              "    </div>\n",
              "  </div>\n",
              "  "
            ]
          },
          "metadata": {},
          "execution_count": 5
        }
      ]
    },
    {
      "cell_type": "code",
      "source": [
        "#Prinst out the storage in mbs for each quater \n",
        "print('Q1-20 total storage(mb) is  ' + Q1_20_stg.iloc[6, 1])\n",
        "print('Q2-20 total storage(mb) is  ' + Q2_20_stg.iloc[6, 1])\n",
        "print('Q3-20 total storage(mb) is  ' + Q3_20_stg.iloc[6, 1])\n",
        "print('Q4-20 total storage(mb) is  ' + Q4_20_stg.iloc[6, 1])\n",
        "print('Q1-21 total storage(mb) is  ' + Q1_21_stg.iloc[6, 1])\n",
        "print('Q2-21 total storage(mb) is  ' + Q2_21_stg.iloc[6, 1])\n",
        "print('Q3-21 total storage(mb) is  ' + Q3_21_stg.iloc[6, 1])\n",
        "print('Q4-21 total storage(mb) is  ' + Q4_21_stg.iloc[6, 1])\n",
        "print('Q1-22 total storage(mb) is  ' + Q1_22_stg.iloc[6, 1])\n",
        "print('Q2-22 total storage(mb) is  ' + Q2_22_stg.iloc[6, 1])  \n",
        "print('Q3-22 total storage(mb) is  ' + Q3_22_stg.iloc[6, 1])\n",
        "print('Q4-22 total storage(mb) is  ' + Q4_22_stg.iloc[6, 1])"
      ],
      "metadata": {
        "colab": {
          "base_uri": "https://localhost:8080/"
        },
        "id": "bD5zNSzt0DJS",
        "outputId": "8fa8ae03-be9f-4119-bea9-73440f8e169d"
      },
      "execution_count": null,
      "outputs": [
        {
          "output_type": "stream",
          "name": "stdout",
          "text": [
            "Q1-20 total storage(mb) is  710,682.2\n",
            "Q2-20 total storage(mb) is  943,530.2\n",
            "Q3-20 total storage(mb) is  1,449,931.6\n",
            "Q4-20 total storage(mb) is  3,369,214.7\n",
            "Q1-21 total storage(mb) is  4,560,745.3\n",
            "Q2-21 total storage(mb) is  5,522,033.2\n",
            "Q3-21 total storage(mb) is  6,390,019.6\n",
            "Q4-21 total storage(mb) is  4,813,723.5\n",
            "Q1-22 total storage(mb) is  3,998,736.9\n",
            "Q2-22 total storage(mb) is  1,756,040.0\n",
            "Q3-22 total storage(mb) is  3,018,239.7\n",
            "Q4-22 total storage(mb) is  4,509,154.9\n"
          ]
        }
      ]
    },
    {
      "cell_type": "code",
      "source": [
        "#Converts each storage number from string to a float and creates a data frame with the appropriate quater\n",
        "stg_data = [[float((Q1_20_stg.iloc[6, 1]).replace(',', '')), 'Q1-20'], [float((Q2_20_stg.iloc[6, 1]).replace(',', '')), 'Q2-20'], [float((Q3_20_stg.iloc[6, 1]).replace(',', '')), 'Q3-20'], [float((Q4_20_stg.iloc[6, 1]).replace(',', '')), 'Q4-20'],\n",
        "            [float((Q1_21_stg.iloc[6, 1]).replace(',', '')), 'Q1-21'], [float((Q2_21_stg.iloc[6, 1]).replace(',', '')), 'Q2-21'], [float((Q3_21_stg.iloc[6, 1]).replace(',', '')), 'Q3-21'], [float((Q4_21_stg.iloc[6, 1]).replace(',', '')), 'Q4-21'],\n",
        "            [float((Q1_22_stg.iloc[6, 1]).replace(',', '')), 'Q1-22'], [float((Q2_22_stg.iloc[6, 1]).replace(',', '')), 'Q2-22'], [float((Q3_22_stg.iloc[6, 1]).replace(',', '')), 'Q3-22'], [float((Q4_22_stg.iloc[6, 1]).replace(',', '')), 'Q4-22']]\n",
        "\n",
        "stg_chart = pd.DataFrame(stg_data, columns = ['Total Mbs Used', 'Quater'])"
      ],
      "metadata": {
        "id": "WCmV2GWj2cpU"
      },
      "execution_count": null,
      "outputs": []
    },
    {
      "cell_type": "code",
      "source": [
        "#Import necessary packages \n",
        "import matplotlib.pyplot as plt\n",
        "\n",
        "\n",
        "stg_chart1=stg_chart['Total Mbs Used'].astype(float)\n"
      ],
      "metadata": {
        "id": "nQ6_BQ_q9W-9"
      },
      "execution_count": null,
      "outputs": []
    },
    {
      "cell_type": "code",
      "source": [
        "#Creates the lists for the plot to read\n",
        "npx = []\n",
        "for i in stg_chart1:\n",
        "  npx.append(i)\n",
        "# \"range(12)\" is the amount of variables in npx \n",
        "npy = []\n",
        "for i in range(12):\n",
        "  npy.append(i)"
      ],
      "metadata": {
        "id": "WLTd4m-8JsnU"
      },
      "execution_count": null,
      "outputs": []
    },
    {
      "cell_type": "code",
      "source": [
        "# Creates storage graph\n",
        "plt.plot(npy, npx)\n",
        "plt.grid()\n",
        "# X axis labels are divided in quaters or the month that each quater starts in the particular year\n",
        "plt.xticks([0, 1, 2, 3, 4, 5, 6, 7, 8, 9, 10, 11], ['Jan 20', 'Apr 20', 'Jul 20', 'Oct 20',\n",
        "                                                    'Jan 21', 'Apr 21', 'Jul 21', 'Oct 21',\n",
        "                                                    'Jan 22', 'Apr 22', 'Jul 22', 'Oct 22'], rotation=28)\n",
        "plt.tick_params(axis='y', colors='blue', direction='in', length=5, width=3)\n",
        "# Y axis labels is denoted in Terabytes but the Y values are in the millions of megabytes \n",
        "# (1 million megabytes = 1 Terabytes)\n",
        "# This is why the Y axis is written in millions and not singles digits\n",
        "plt.yticks([0, 1000000, 2000000, 3000000, 4000000, 5000000, 6000000, 7000000], \n",
        "           ['0TB', '1TB', '2TB', '3TB', '4TB', '5TB', '6TB', '7TB'], \n",
        "           color='blue', fontsize='9', horizontalalignment='right')\n",
        "\n",
        "plt.ylim(0,7000000)\n",
        "plt.ylabel(\"Storage Usage in Terabytes (TB)\")\n",
        "plt.plot()\n",
        "plt.savefig('StorageUsage.png')"
      ],
      "metadata": {
        "colab": {
          "base_uri": "https://localhost:8080/",
          "height": 283
        },
        "id": "ubDOuTDr45k9",
        "outputId": "27521d20-b224-49bb-b044-772e058f9a6b"
      },
      "execution_count": null,
      "outputs": [
        {
          "output_type": "display_data",
          "data": {
            "text/plain": [
              "<Figure size 432x288 with 1 Axes>"
            ],
            "image/png": "[encoded data removed]"
          },
          "metadata": {
            "needs_background": "light"
          }
        }
      ]
    },
    {
      "cell_type": "code",
      "source": [
        "# Produces data of image type storage. Total Mbs and percentage of overall space\n",
        "pro_data = [[float((Q1_20_stg.iloc[6, 1]).replace(',', '')), float((Q1_20_stg.iloc[0, 1]).replace(',', '')), \n",
        "             (float((Q1_20_stg.iloc[0, 1]).replace(',', '')) / float((Q1_20_stg.iloc[6, 1]).replace(',', '')))*100, 'Q1-20'], \n",
        "            [float((Q2_20_stg.iloc[6, 1]).replace(',', '')), float((Q2_20_stg.iloc[0, 1]).replace(',', '')), \n",
        "             (float((Q2_20_stg.iloc[0, 1]).replace(',', '')) / float((Q2_20_stg.iloc[6, 1]).replace(',', '')))*100, 'Q2-20'], \n",
        "            [float((Q3_20_stg.iloc[6, 1]).replace(',', '')), float((Q3_20_stg.iloc[0, 1]).replace(',', '')), \n",
        "             (float((Q3_20_stg.iloc[0, 1]).replace(',', '')) / float((Q3_20_stg.iloc[6, 1]).replace(',', '')))*100, 'Q3-20'], \n",
        "            [float((Q4_20_stg.iloc[6, 1]).replace(',', '')), float((Q4_20_stg.iloc[0, 1]).replace(',', '')), \n",
        "             (float((Q4_20_stg.iloc[0, 1]).replace(',', '')) / float((Q4_20_stg.iloc[6, 1]).replace(',', '')))*100, 'Q4-20'],\n",
        "            [float((Q1_21_stg.iloc[6, 1]).replace(',', '')), float((Q1_21_stg.iloc[0, 1]).replace(',', '')), \n",
        "             (float((Q1_21_stg.iloc[0, 1]).replace(',', '')) / float((Q1_21_stg.iloc[6, 1]).replace(',', '')))*100, 'Q1-21'], \n",
        "            [float((Q2_21_stg.iloc[6, 1]).replace(',', '')), float((Q2_21_stg.iloc[0, 1]).replace(',', '')), \n",
        "             (float((Q2_21_stg.iloc[0, 1]).replace(',', '')) / float((Q2_21_stg.iloc[6, 1]).replace(',', '')))*100, 'Q2-21'], \n",
        "            [float((Q3_21_stg.iloc[6, 1]).replace(',', '')), float((Q3_21_stg.iloc[0, 1]).replace(',', '')), \n",
        "             (float((Q3_21_stg.iloc[0, 1]).replace(',', '')) / float((Q3_21_stg.iloc[6, 1]).replace(',', '')))*100, 'Q3-21'], \n",
        "            [float((Q4_21_stg.iloc[6, 1]).replace(',', '')), float((Q4_21_stg.iloc[0, 1]).replace(',', '')), \n",
        "             (float((Q4_21_stg.iloc[0, 1]).replace(',', '')) / float((Q4_21_stg.iloc[6, 1]).replace(',', '')))*100, 'Q4-21'],\n",
        "            [float((Q1_22_stg.iloc[6, 1]).replace(',', '')), float((Q1_22_stg.iloc[0, 1]).replace(',', '')), \n",
        "             (float((Q1_22_stg.iloc[0, 1]).replace(',', '')) / float((Q1_22_stg.iloc[6, 1]).replace(',', '')))*100, 'Q1-22'], \n",
        "            [float((Q2_22_stg.iloc[6, 1]).replace(',', '')), float((Q2_22_stg.iloc[0, 1]).replace(',', '')), \n",
        "             (float((Q2_22_stg.iloc[0, 1]).replace(',', '')) / float((Q2_22_stg.iloc[6, 1]).replace(',', '')))*100, 'Q2-22'], \n",
        "            [float((Q3_22_stg.iloc[6, 1]).replace(',', '')), float((Q3_22_stg.iloc[0, 1]).replace(',', '')), \n",
        "             (float((Q3_22_stg.iloc[0, 1]).replace(',', '')) / float((Q3_22_stg.iloc[6, 1]).replace(',', '')))*100, 'Q3-22'], \n",
        "            [float((Q4_22_stg.iloc[6, 1]).replace(',', '')), float((Q4_22_stg.iloc[0, 1]).replace(',', '')), \n",
        "             (float((Q4_22_stg.iloc[0, 1]).replace(',', '')) / float((Q4_22_stg.iloc[6, 1]).replace(',', '')))*100, 'Q4-22']]\n"
      ],
      "metadata": {
        "id": "98KujK21Ltof"
      },
      "execution_count": null,
      "outputs": []
    },
    {
      "cell_type": "code",
      "source": [
        "# Produces the data frame\n",
        "pro_chart = pd.DataFrame(pro_data, columns = ['|Total Mbs Used|', '|Image Mbs|', '|% of Image Mbs of Total Mbs|', '|Quater|'])\n",
        "pro_chart"
      ],
      "metadata": {
        "colab": {
          "base_uri": "https://localhost:8080/",
          "height": 426
        },
        "id": "PiYM-lXaEKtq",
        "outputId": "973d0d53-cd24-4f35-9326-74a7d08d84f1"
      },
      "execution_count": null,
      "outputs": [
        {
          "output_type": "execute_result",
          "data": {
            "text/plain": [
              "    |Total Mbs Used|  |Image Mbs|  |% of Image Mbs of Total Mbs| |Quater|\n",
              "0           710682.2     557175.3                      78.400064    Q1-20\n",
              "1           943530.2     828723.7                      87.832239    Q2-20\n",
              "2          1449931.6    1198084.0                      82.630381    Q3-20\n",
              "3          3369214.7    3062911.2                      90.908757    Q4-20\n",
              "4          4560745.3    4171445.1                      91.464110    Q1-21\n",
              "5          5522033.2    5079342.9                      91.983201    Q2-21\n",
              "6          6390019.6    5934609.9                      92.873109    Q3-21\n",
              "7          4813723.5    4381491.3                      91.020834    Q4-21\n",
              "8          3998736.9    3563041.1                      89.104164    Q1-22\n",
              "9          1756040.0    1319847.1                      75.160423    Q2-22\n",
              "10         3018239.7    2544834.4                      84.315185    Q3-22\n",
              "11         4509154.9    4008769.1                      88.902892    Q4-22"
            ],
            "text/html": [
              "\n",
              "  <div id=\"df-95586e10-10c4-4545-a703-f9687072fc38\">\n",
              "    <div class=\"colab-df-container\">\n",
              "      <div>\n",
              "<style scoped>\n",
              "    .dataframe tbody tr th:only-of-type {\n",
              "        vertical-align: middle;\n",
              "    }\n",
              "\n",
              "    .dataframe tbody tr th {\n",
              "        vertical-align: top;\n",
              "    }\n",
              "\n",
              "    .dataframe thead th {\n",
              "        text-align: right;\n",
              "    }\n",
              "</style>\n",
              "<table border=\"1\" class=\"dataframe\">\n",
              "  <thead>\n",
              "    <tr style=\"text-align: right;\">\n",
              "      <th></th>\n",
              "      <th>|Total Mbs Used|</th>\n",
              "      <th>|Image Mbs|</th>\n",
              "      <th>|% of Image Mbs of Total Mbs|</th>\n",
              "      <th>|Quater|</th>\n",
              "    </tr>\n",
              "  </thead>\n",
              "  <tbody>\n",
              "    <tr>\n",
              "      <th>0</th>\n",
              "      <td>710682.2</td>\n",
              "      <td>557175.3</td>\n",
              "      <td>78.400064</td>\n",
              "      <td>Q1-20</td>\n",
              "    </tr>\n",
              "    <tr>\n",
              "      <th>1</th>\n",
              "      <td>943530.2</td>\n",
              "      <td>828723.7</td>\n",
              "      <td>87.832239</td>\n",
              "      <td>Q2-20</td>\n",
              "    </tr>\n",
              "    <tr>\n",
              "      <th>2</th>\n",
              "      <td>1449931.6</td>\n",
              "      <td>1198084.0</td>\n",
              "      <td>82.630381</td>\n",
              "      <td>Q3-20</td>\n",
              "    </tr>\n",
              "    <tr>\n",
              "      <th>3</th>\n",
              "      <td>3369214.7</td>\n",
              "      <td>3062911.2</td>\n",
              "      <td>90.908757</td>\n",
              "      <td>Q4-20</td>\n",
              "    </tr>\n",
              "    <tr>\n",
              "      <th>4</th>\n",
              "      <td>4560745.3</td>\n",
              "      <td>4171445.1</td>\n",
              "      <td>91.464110</td>\n",
              "      <td>Q1-21</td>\n",
              "    </tr>\n",
              "    <tr>\n",
              "      <th>5</th>\n",
              "      <td>5522033.2</td>\n",
              "      <td>5079342.9</td>\n",
              "      <td>91.983201</td>\n",
              "      <td>Q2-21</td>\n",
              "    </tr>\n",
              "    <tr>\n",
              "      <th>6</th>\n",
              "      <td>6390019.6</td>\n",
              "      <td>5934609.9</td>\n",
              "      <td>92.873109</td>\n",
              "      <td>Q3-21</td>\n",
              "    </tr>\n",
              "    <tr>\n",
              "      <th>7</th>\n",
              "      <td>4813723.5</td>\n",
              "      <td>4381491.3</td>\n",
              "      <td>91.020834</td>\n",
              "      <td>Q4-21</td>\n",
              "    </tr>\n",
              "    <tr>\n",
              "      <th>8</th>\n",
              "      <td>3998736.9</td>\n",
              "      <td>3563041.1</td>\n",
              "      <td>89.104164</td>\n",
              "      <td>Q1-22</td>\n",
              "    </tr>\n",
              "    <tr>\n",
              "      <th>9</th>\n",
              "      <td>1756040.0</td>\n",
              "      <td>1319847.1</td>\n",
              "      <td>75.160423</td>\n",
              "      <td>Q2-22</td>\n",
              "    </tr>\n",
              "    <tr>\n",
              "      <th>10</th>\n",
              "      <td>3018239.7</td>\n",
              "      <td>2544834.4</td>\n",
              "      <td>84.315185</td>\n",
              "      <td>Q3-22</td>\n",
              "    </tr>\n",
              "    <tr>\n",
              "      <th>11</th>\n",
              "      <td>4509154.9</td>\n",
              "      <td>4008769.1</td>\n",
              "      <td>88.902892</td>\n",
              "      <td>Q4-22</td>\n",
              "    </tr>\n",
              "  </tbody>\n",
              "</table>\n",
              "</div>\n",
              "      <button class=\"colab-df-convert\" onclick=\"convertToInteractive('df-95586e10-10c4-4545-a703-f9687072fc38')\"\n",
              "              title=\"Convert this dataframe to an interactive table.\"\n",
              "              style=\"display:none;\">\n",
              "        \n",
              "  <svg xmlns=\"http://www.w3.org/2000/svg\" height=\"24px\"viewBox=\"0 0 24 24\"\n",
              "       width=\"24px\">\n",
              "    <path d=\"M0 0h24v24H0V0z\" fill=\"none\"/>\n",
              "    <path d=\"M18.56 5.44l.94 2.06.94-2.06 2.06-.94-2.06-.94-.94-2.06-.94 2.06-2.06.94zm-11 1L8.5 8.5l.94-2.06 2.06-.94-2.06-.94L8.5 2.5l-.94 2.06-2.06.94zm10 10l.94 2.06.94-2.06 2.06-.94-2.06-.94-.94-2.06-.94 2.06-2.06.94z\"/><path d=\"M17.41 7.96l-1.37-1.37c-.4-.4-.92-.59-1.43-.59-.52 0-1.04.2-1.43.59L10.3 9.45l-7.72 7.72c-.78.78-.78 2.05 0 2.83L4 21.41c.39.39.9.59 1.41.59.51 0 1.02-.2 1.41-.59l7.78-7.78 2.81-2.81c.8-.78.8-2.07 0-2.86zM5.41 20L4 18.59l7.72-7.72 1.47 1.35L5.41 20z\"/>\n",
              "  </svg>\n",
              "      </button>\n",
              "      \n",
              "  <style>\n",
              "    .colab-df-container {\n",
              "      display:flex;\n",
              "      flex-wrap:wrap;\n",
              "      gap: 12px;\n",
              "    }\n",
              "\n",
              "    .colab-df-convert {\n",
              "      background-color: #E8F0FE;\n",
              "      border: none;\n",
              "      border-radius: 50%;\n",
              "      cursor: pointer;\n",
              "      display: none;\n",
              "      fill: #1967D2;\n",
              "      height: 32px;\n",
              "      padding: 0 0 0 0;\n",
              "      width: 32px;\n",
              "    }\n",
              "\n",
              "    .colab-df-convert:hover {\n",
              "      background-color: #E2EBFA;\n",
              "      box-shadow: 0px 1px 2px rgba(60, 64, 67, 0.3), 0px 1px 3px 1px rgba(60, 64, 67, 0.15);\n",
              "      fill: #174EA6;\n",
              "    }\n",
              "\n",
              "    [theme=dark] .colab-df-convert {\n",
              "      background-color: #3B4455;\n",
              "      fill: #D2E3FC;\n",
              "    }\n",
              "\n",
              "    [theme=dark] .colab-df-convert:hover {\n",
              "      background-color: #434B5C;\n",
              "      box-shadow: 0px 1px 3px 1px rgba(0, 0, 0, 0.15);\n",
              "      filter: drop-shadow(0px 1px 2px rgba(0, 0, 0, 0.3));\n",
              "      fill: #FFFFFF;\n",
              "    }\n",
              "  </style>\n",
              "\n",
              "      <script>\n",
              "        const buttonEl =\n",
              "          document.querySelector('#df-95586e10-10c4-4545-a703-f9687072fc38 button.colab-df-convert');\n",
              "        buttonEl.style.display =\n",
              "          google.colab.kernel.accessAllowed ? 'block' : 'none';\n",
              "\n",
              "        async function convertToInteractive(key) {\n",
              "          const element = document.querySelector('#df-95586e10-10c4-4545-a703-f9687072fc38');\n",
              "          const dataTable =\n",
              "            await google.colab.kernel.invokeFunction('convertToInteractive',\n",
              "                                                     [key], {});\n",
              "          if (!dataTable) return;\n",
              "\n",
              "          const docLinkHtml = 'Like what you see? Visit the ' +\n",
              "            '<a target=\"_blank\" href=https://colab.research.google.com/notebooks/data_table.ipynb>data table notebook</a>'\n",
              "            + ' to learn more about interactive tables.';\n",
              "          element.innerHTML = '';\n",
              "          dataTable['output_type'] = 'display_data';\n",
              "          await google.colab.output.renderOutput(dataTable, element);\n",
              "          const docLink = document.createElement('div');\n",
              "          docLink.innerHTML = docLinkHtml;\n",
              "          element.appendChild(docLink);\n",
              "        }\n",
              "      </script>\n",
              "    </div>\n",
              "  </div>\n",
              "  "
            ]
          },
          "metadata": {},
          "execution_count": 15
        }
      ]
    },
    {
      "cell_type": "code",
      "source": [
        "# Converts the percentage into a usable float number \n",
        "pro_chart1 = pro_chart['|% of Image Mbs of Total Mbs|'].astype(float)\n"
      ],
      "metadata": {
        "id": "Fqt4Y9nVKgbQ"
      },
      "execution_count": null,
      "outputs": []
    },
    {
      "cell_type": "code",
      "source": [
        "# creates the list of the data to be used in the plot function\n",
        "ppx = []\n",
        "for i in pro_chart1:\n",
        "  ppx.append(i)\n",
        "\n",
        "# creates a range for the Y axis (12 or 4 quaters a year for 3 years)\n",
        "ppy = []\n",
        "for i in range(12):\n",
        "  ppy.append(i)"
      ],
      "metadata": {
        "id": "-mbFcLKcLWC0"
      },
      "execution_count": null,
      "outputs": []
    },
    {
      "cell_type": "code",
      "source": [
        "# Creates storage graph\n",
        "plt.bar(ppy, ppx)\n",
        "#plt.grid()\n",
        "# X axis labels are divided in quaters or the month that each quater starts in the particular year\n",
        "plt.xticks([0, 1, 2, 3, 4, 5, 6, 7, 8, 9, 10, 11], ['Jan 20', 'Apr 20', 'Jul 20', 'Oct 20',\n",
        "                                                    'Jan 21', 'Apr 21', 'Jul 21', 'Oct 21',\n",
        "                                                    'Jan 22', 'Apr 22', 'Jul 22', 'Oct 22'], rotation=28)\n",
        "plt.tick_params(axis='y', colors='blue', direction='in', length=5, width=5)\n",
        "# Y axis labels is denoted by percentages\n",
        "\n",
        "plt.yticks([0, 10, 20, 30, 40, 50, 60, 70, 80, 90, 100], \n",
        "           ['0%', '10%', '20%', '30%', '40%', '50%', '60%', '70%', '80%', '90%', '100%'], \n",
        "           color='blue', fontsize='9', horizontalalignment='right')\n",
        "\n",
        "plt.ylim(70,100)\n",
        "plt.ylabel(\"Percentage of Space\")\n",
        "plt.plot()\n",
        "plt.savefig('percentagesBar.png')"
      ],
      "metadata": {
        "colab": {
          "base_uri": "https://localhost:8080/",
          "height": 283
        },
        "id": "2_lxpp1UMOoc",
        "outputId": "f04804a0-c143-41e6-f95a-f4c6eef45bc5"
      },
      "execution_count": null,
      "outputs": [
        {
          "output_type": "display_data",
          "data": {
            "text/plain": [
              "<Figure size 432x288 with 1 Axes>"
            ],
            "image/png": "[encoded data removed]"
          },
          "metadata": {
            "needs_background": "light"
          }
        }
      ]
    }
  ]
}